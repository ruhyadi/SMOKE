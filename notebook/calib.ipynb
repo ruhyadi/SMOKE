{
 "cells": [
  {
   "cell_type": "code",
   "execution_count": 4,
   "metadata": {},
   "outputs": [],
   "source": [
    "import os\n",
    "import csv\n",
    "import numpy as np\n",
    "\n",
    "calib_dir = '/home/didi/Repository/SMOKE/datasets/kitti/testing/calib'\n",
    "file_name = '000000.txt'\n",
    "with open(os.path.join(calib_dir, file_name), 'r') as csv_file:\n",
    "    reader = csv.reader(csv_file, delimiter=' ')\n",
    "    for line, row in enumerate(reader):\n",
    "        if row[0] == 'P2:':\n",
    "            K = row[1:]\n",
    "            K = [float(i) for i in K]\n",
    "            K = np.array(K, dtype=np.float32).reshape(3, 4)\n",
    "            K = K[:3, :3]\n",
    "            break"
   ]
  },
  {
   "cell_type": "code",
   "execution_count": 3,
   "metadata": {},
   "outputs": [
    {
     "name": "stdout",
     "output_type": "stream",
     "text": [
      "[[721.5377   0.     609.5593]\n",
      " [  0.     721.5377 172.854 ]\n",
      " [  0.       0.       1.    ]]\n"
     ]
    }
   ],
   "source": [
    "print(K)"
   ]
  },
  {
   "cell_type": "markdown",
   "metadata": {},
   "source": [
    "## Drive Calibration File"
   ]
  },
  {
   "cell_type": "code",
   "execution_count": 5,
   "metadata": {},
   "outputs": [],
   "source": [
    "calib_dir = '/home/didi/Repository/SMOKE/datasets/drive/2011_09_26_drive_0035_sync/calib'\n",
    "file_name = 'calib_cam_to_cam.txt'\n",
    "\n",
    "import csv\n",
    "\n",
    "with open(os.path.join(calib_dir, file_name), 'r') as csv_file:\n",
    "    reader = csv.reader(csv_file, delimiter=' ')\n",
    "    for line, row in enumerate(reader):\n",
    "        if row[0] == 'P_rect_02:':\n",
    "            K = row[1:]\n",
    "            K = [float(i) for i in K]\n",
    "            K = np.array(K, dtype=np.float32).reshape(3, 4)\n",
    "            K = K[:3, :3]\n",
    "            break"
   ]
  },
  {
   "cell_type": "code",
   "execution_count": 6,
   "metadata": {},
   "outputs": [
    {
     "name": "stdout",
     "output_type": "stream",
     "text": [
      "[[721.5377   0.     609.5593]\n",
      " [  0.     721.5377 172.854 ]\n",
      " [  0.       0.       1.    ]]\n"
     ]
    }
   ],
   "source": [
    "print(K)"
   ]
  },
  {
   "cell_type": "code",
   "execution_count": 7,
   "metadata": {},
   "outputs": [
    {
     "name": "stdout",
     "output_type": "stream",
     "text": [
      "Hey\n"
     ]
    }
   ],
   "source": [
    "is_train=True\n",
    "\n",
    "if is_train:\n",
    "    print(\"Hey\")"
   ]
  },
  {
   "cell_type": "code",
   "execution_count": null,
   "metadata": {},
   "outputs": [],
   "source": []
  }
 ],
 "metadata": {
  "interpreter": {
   "hash": "59985abe9e2d438b196bbf35643bde279b5c23e37b79d5a229a7b387debcbc5e"
  },
  "kernelspec": {
   "display_name": "Python 3.7.11 64-bit ('mono3d': conda)",
   "language": "python",
   "name": "python3"
  },
  "language_info": {
   "codemirror_mode": {
    "name": "ipython",
    "version": 3
   },
   "file_extension": ".py",
   "mimetype": "text/x-python",
   "name": "python",
   "nbconvert_exporter": "python",
   "pygments_lexer": "ipython3",
   "version": "3.7.11"
  },
  "orig_nbformat": 4
 },
 "nbformat": 4,
 "nbformat_minor": 2
}
