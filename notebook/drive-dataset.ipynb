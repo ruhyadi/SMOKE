{
 "cells": [
  {
   "cell_type": "code",
   "execution_count": null,
   "metadata": {},
   "outputs": [],
   "source": [
    "import glob\n",
    "\n",
    "data = sorted(glob.glob('/home/didi/Repository/SMOKE/datasets/kitti/testing/image_2/*.png'))\n",
    "\n",
    "for filename in data:\n",
    "    filename = filename.replace('/home/didi/Repository/SMOKE/datasets/kitti/testing/image_2/',\n",
    "    '')\n",
    "    print(filename)"
   ]
  },
  {
   "cell_type": "code",
   "execution_count": 9,
   "metadata": {},
   "outputs": [],
   "source": [
    "# make copy of calib\n",
    "\n",
    "data = sorted(glob.glob('/home/didi/Repository/SMOKE/datasets/kitti/testing/image_2/*.png'))\n",
    "\n",
    "calib_names = []\n",
    "\n",
    "for filename in data:\n",
    "    filename = filename.replace('/home/didi/Repository/SMOKE/datasets/kitti/testing/image_2/',\n",
    "    '')\n",
    "    filename = filename.replace('.png', '.txt')\n",
    "    calib_names.append(filename)"
   ]
  },
  {
   "cell_type": "code",
   "execution_count": null,
   "metadata": {},
   "outputs": [],
   "source": [
    "import shutil\n",
    "import os\n",
    "\n",
    "source = '/home/didi/Repository/SMOKE/datasets/kitti/testing/calib/000000.txt'\n",
    "dest = '/home/didi/Repository/SMOKE/datasets/kitti/testing/calib'\n",
    "\n",
    "for filename in calib_names:\n",
    "    destination = os.path.join(dest, filename)\n",
    "    shutil.copyfile(source, destination)"
   ]
  },
  {
   "cell_type": "code",
   "execution_count": null,
   "metadata": {},
   "outputs": [],
   "source": []
  }
 ],
 "metadata": {
  "interpreter": {
   "hash": "59985abe9e2d438b196bbf35643bde279b5c23e37b79d5a229a7b387debcbc5e"
  },
  "kernelspec": {
   "display_name": "Python 3.7.11 64-bit ('mono3d': conda)",
   "language": "python",
   "name": "python3"
  },
  "language_info": {
   "codemirror_mode": {
    "name": "ipython",
    "version": 3
   },
   "file_extension": ".py",
   "mimetype": "text/x-python",
   "name": "python",
   "nbconvert_exporter": "python",
   "pygments_lexer": "ipython3",
   "version": "3.7.11"
  },
  "orig_nbformat": 4
 },
 "nbformat": 4,
 "nbformat_minor": 2
}
